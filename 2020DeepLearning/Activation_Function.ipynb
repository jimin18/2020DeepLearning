{
  "nbformat": 4,
  "nbformat_minor": 0,
  "metadata": {
    "colab": {
      "name": "Activation_Function.ipynb",
      "provenance": [],
      "collapsed_sections": []
    },
    "kernelspec": {
      "name": "python3",
      "display_name": "Python 3"
    }
  },
  "cells": [
    {
      "cell_type": "code",
      "metadata": {
        "id": "6T7GW5gQIFWA"
      },
      "source": [
        "import numpy as np\n",
        "import matplotlib.pylab as plt"
      ],
      "execution_count": null,
      "outputs": []
    },
    {
      "cell_type": "code",
      "metadata": {
        "id": "SDtMJTnLIxm9"
      },
      "source": [
        "def my_sigmoid(x):\n",
        "  return 1/(1+np.exp(-x))"
      ],
      "execution_count": null,
      "outputs": []
    },
    {
      "cell_type": "markdown",
      "metadata": {
        "id": "aEmnCBUaMwE2"
      },
      "source": [
        "# step"
      ]
    },
    {
      "cell_type": "code",
      "metadata": {
        "id": "Q9pj6yB2Lbf2"
      },
      "source": [
        "def my_step(x):\n",
        "  return np.array(x>0, dtype = np.int)"
      ],
      "execution_count": null,
      "outputs": []
    },
    {
      "cell_type": "markdown",
      "metadata": {
        "id": "4j5wrn-cOCD3"
      },
      "source": [
        "###ReLU"
      ]
    },
    {
      "cell_type": "code",
      "metadata": {
        "id": "_3XlsVSLNeCF"
      },
      "source": [
        "def my_relu(x):\n",
        "  return np.maximum(0,x)"
      ],
      "execution_count": null,
      "outputs": []
    },
    {
      "cell_type": "code",
      "metadata": {
        "id": "KYejg3U8OtWC"
      },
      "source": [
        "def my_relu2(x):\n",
        "  return x * (x>0)"
      ],
      "execution_count": null,
      "outputs": []
    },
    {
      "cell_type": "markdown",
      "metadata": {
        "id": "y_Q-dxP-NQkk"
      },
      "source": [
        "### tanh"
      ]
    },
    {
      "cell_type": "code",
      "metadata": {
        "id": "AhmDDTunJjwo"
      },
      "source": [
        "def my_tanh(x):\n",
        "  return 2*my_sigmoid(2*x)-1"
      ],
      "execution_count": null,
      "outputs": []
    },
    {
      "cell_type": "code",
      "metadata": {
        "id": "fw1IBW4UKu82"
      },
      "source": [
        "x = np.arange(-10,10, 0.1)"
      ],
      "execution_count": null,
      "outputs": []
    },
    {
      "cell_type": "code",
      "metadata": {
        "id": "qPdRbGgfK9OJ"
      },
      "source": [
        "y1 = my_sigmoid(x)\n",
        "y2 = my_tanh(x)\n",
        "y3 = my_step(x)\n",
        "y4 = my_relu2(x)"
      ],
      "execution_count": null,
      "outputs": []
    },
    {
      "cell_type": "code",
      "metadata": {
        "id": "Q5mNSZrxLFMf",
        "outputId": "3e6c10c7-dd31-40c3-a450-4abe24f4150a",
        "colab": {
          "base_uri": "https://localhost:8080/",
          "height": 265
        }
      },
      "source": [
        "plt.plot(x, y1)\n",
        "plt.plot(x, y2)\n",
        "plt.plot(x, y3)\n",
        "plt.plot(x, y4)\n",
        "plt. legend(['sigmoid','tanh','step','relu'])\n",
        "plt.grid()"
      ],
      "execution_count": null,
      "outputs": [
        {
          "output_type": "display_data",
          "data": {
            "image/png": "[encoded data removed]",
            "text/plain": [
              "<Figure size 432x288 with 1 Axes>"
            ]
          },
          "metadata": {
            "tags": [],
            "needs_background": "light"
          }
        }
      ]
    }
  ]
}